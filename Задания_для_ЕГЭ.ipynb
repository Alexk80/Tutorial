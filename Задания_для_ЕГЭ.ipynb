{
  "nbformat": 4,
  "nbformat_minor": 0,
  "metadata": {
    "colab": {
      "name": "Задания для ЕГЭ.ipynb",
      "provenance": [],
      "collapsed_sections": [],
      "toc_visible": true,
      "include_colab_link": true
    },
    "kernelspec": {
      "name": "python3",
      "display_name": "Python 3"
    }
  },
  "cells": [
    {
      "cell_type": "markdown",
      "metadata": {
        "id": "view-in-github",
        "colab_type": "text"
      },
      "source": [
        "<a href=\"https://colab.research.google.com/github/Alexk80/Tutorial/blob/tb1/%D0%97%D0%B0%D0%B4%D0%B0%D0%BD%D0%B8%D1%8F_%D0%B4%D0%BB%D1%8F_%D0%95%D0%93%D0%AD.ipynb\" target=\"_parent\"><img src=\"https://colab.research.google.com/assets/colab-badge.svg\" alt=\"Open In Colab\"/></a>"
      ]
    },
    {
      "cell_type": "markdown",
      "metadata": {
        "id": "zIgQkrZlYJDc"
      },
      "source": [
        "#Решение задачи по информатике. ЕГЭ"
      ]
    },
    {
      "cell_type": "markdown",
      "metadata": {
        "id": "IC9-9u_rYTcE"
      },
      "source": [
        "В данном уроке разберем решение задачи из ЕГЭ по информатике за 2020 год.\r\n",
        "\r\n",
        "Задание:\r\n",
        "\r\n",
        "**Р-00 (демо-2021).** Системный администратор раз в неделю создаёт архив пользовательских файлов. Однако объём диска, куда он помещает архив, может быть меньше, чем суммарный объём архивируемых файлов. Известно, какой объём занимает файл каждого пользователя. По заданной информации об объёме файлов пользователей и свободном объёме на архивном диске определите максимальное число пользователей, чьи файлы можно сохранить в архиве, а также максимальный размер имеющегося файла, который может быть сохранён в архиве, при условии, что сохранены файлы максимально возможного числа пользователей. \r\n",
        "\r\n",
        "**Входные данные.** В первой строке входного файла 26.txt находятся два числа: S – размер свободного места на диске (натуральное число, не превышающее 10 000) и N – количество пользователей (натуральное число, не превышающее 1000). В следующих N строках находятся значения объёмов файлов каждого пользователя (все числа натуральные, не превышающие 100), каждое в отдельной строке. Запишите в ответе два числа: сначала наибольшее число пользователей, чьи файлы могут быть помещены в архив, затем максимальный размер имеющегося файла, который может быть сохранён в архиве, при условии, что сохранены файлы максимально возможного числа пользователей. \r\n",
        "\r\n",
        "**Пример входного файла:**\r\n",
        "100 4\r\n",
        "80\r\n",
        "30\r\n",
        "50\r\n",
        "40\r\n",
        "При таких исходных данных можно сохранить файлы максимум двух пользователей. Возможные объёмы этих двух файлов 30 и 40, 30 и 50 или 40 и 50. Наибольший объём файла из перечисленных пар – 50, поэтому ответ для приведённого примера:\r\n",
        "2 50\r\n"
      ]
    },
    {
      "cell_type": "markdown",
      "metadata": {
        "id": "FVyPexhigf0e"
      },
      "source": [
        "##Подготовка рабочего пространства"
      ]
    },
    {
      "cell_type": "markdown",
      "metadata": {
        "id": "TrzaS-25Bpzq"
      },
      "source": [
        "###получение файла"
      ]
    },
    {
      "cell_type": "markdown",
      "metadata": {
        "id": "yjnmP3RUgmUo"
      },
      "source": [
        "Из условий видно, что входные данные принимаются из файла. Требуемы для этого задания файл находится в архиве вместе с другими вариантами. Архив можно скачать со страницы: https://www.kpolyakov.spb.ru/school/ege.htm. Соответственно, необходимо подготовить процедуру для скачивания. Вариантов для получения файла со страницы сайта много. В данном случае, наиболее простым способом будет использование команды linux (НЕ КОМАНДЫ PYTHON): wget\r\n",
        "Для исполнения команды ОС  в среде Colab необходимо использовать префикс \"!\"\r\n",
        "Далее указываем команду и передаваемые ей аргументы.\r\n"
      ]
    },
    {
      "cell_type": "code",
      "metadata": {
        "colab": {
          "base_uri": "https://localhost:8080/"
        },
        "id": "xRiA5JhH0WkV",
        "outputId": "59ba2cc3-cc2a-41a1-d2f9-938bfcdad22c"
      },
      "source": [
        "!wget 'https://www.kpolyakov.spb.ru/download/26data.zip'"
      ],
      "execution_count": null,
      "outputs": [
        {
          "output_type": "stream",
          "text": [
            "--2020-12-25 10:18:08--  https://www.kpolyakov.spb.ru/download/26data.zip\n",
            "Resolving www.kpolyakov.spb.ru (www.kpolyakov.spb.ru)... 172.67.190.57, 104.28.13.142, 104.28.12.142, ...\n",
            "Connecting to www.kpolyakov.spb.ru (www.kpolyakov.spb.ru)|172.67.190.57|:443... connected.\n",
            "HTTP request sent, awaiting response... 200 OK\n",
            "Length: 2267520 (2.2M) [application/zip]\n",
            "Saving to: ‘26data.zip.1’\n",
            "\n",
            "26data.zip.1        100%[===================>]   2.16M  2.59MB/s    in 0.8s    \n",
            "\n",
            "2020-12-25 10:18:09 (2.59 MB/s) - ‘26data.zip.1’ saved [2267520/2267520]\n",
            "\n"
          ],
          "name": "stdout"
        }
      ]
    },
    {
      "cell_type": "code",
      "metadata": {
        "colab": {
          "base_uri": "https://localhost:8080/"
        },
        "id": "-vN24byY9L1A",
        "outputId": "4c8d1c5a-b83e-46b2-b09a-032092888bca"
      },
      "source": [
        "!git clone 'https://github.com/Alexk80/Tutorial.git'"
      ],
      "execution_count": 1,
      "outputs": [
        {
          "output_type": "stream",
          "text": [
            "Cloning into 'Tutorial'...\n",
            "remote: Enumerating objects: 58, done.\u001b[K\n",
            "remote: Counting objects: 100% (58/58), done.\u001b[K\n",
            "remote: Compressing objects: 100% (58/58), done.\u001b[K\n",
            "remote: Total 62 (delta 5), reused 0 (delta 0), pack-reused 4\u001b[K\n",
            "Unpacking objects: 100% (62/62), done.\n"
          ],
          "name": "stdout"
        }
      ]
    },
    {
      "cell_type": "markdown",
      "metadata": {
        "id": "QEiTKEHRBSZc"
      },
      "source": [
        "Необходимо убедиться, что файл скачан и доступен. Для этого необходимо отобразить содержимое каталога (сеансового хранилища). Вывести список файлов в каталоге можно с помощью команды ОС: ls\r\n",
        "Конструкция будет такая же, как и в предыдушем пункте:\r\n",
        "знак \"!\"*Команда* *передаваемые аргументы*\r\n"
      ]
    },
    {
      "cell_type": "code",
      "metadata": {
        "colab": {
          "base_uri": "https://localhost:8080/"
        },
        "id": "acHabAAz0hx8",
        "outputId": "1a812418-9083-480f-9ee7-dcae31bd4ac3"
      },
      "source": [
        "!ls -alt"
      ],
      "execution_count": null,
      "outputs": [
        {
          "output_type": "stream",
          "text": [
            "total 4452\n",
            "drwxr-xr-x 1 root root    4096 Dec 25 10:18 .\n",
            "drwxr-xr-x 1 root root    4096 Dec 25 09:06 ..\n",
            "drwxr-xr-x 1 root root    4096 Dec 21 17:29 .config\n",
            "drwxr-xr-x 1 root root    4096 Dec 21 17:29 sample_data\n",
            "-rw-r--r-- 1 root root 2267520 Dec 15 17:02 26data.zip\n",
            "-rw-r--r-- 1 root root 2267520 Dec 15 17:02 26data.zip.1\n",
            "-rw-r--r-- 1 root root    3698 Aug 20 09:25 26.txt\n"
          ],
          "name": "stdout"
        }
      ]
    },
    {
      "cell_type": "markdown",
      "metadata": {
        "id": "Xl5l31hhDjWU"
      },
      "source": [
        "Видно, что скачанный файл является архивом. Теперь нужно извлечь из этого архива файл, требуемый для выполнения задачи. Такую операцию можно выполнить с помощью команды ОС: unzip"
      ]
    },
    {
      "cell_type": "code",
      "metadata": {
        "colab": {
          "base_uri": "https://localhost:8080/"
        },
        "id": "qPnHh306ME5R",
        "outputId": "d2db403d-4904-4666-da0b-32c6196daca2"
      },
      "source": [
        "!unzip '26data.zip' '26.txt'"
      ],
      "execution_count": null,
      "outputs": [
        {
          "output_type": "stream",
          "text": [
            "Archive:  26data.zip\n",
            "replace 26.txt? [y]es, [n]o, [A]ll, [N]one, [r]ename: y\n",
            "  inflating: 26.txt                  \n"
          ],
          "name": "stdout"
        }
      ]
    },
    {
      "cell_type": "markdown",
      "metadata": {
        "id": "mB4jdsfyEWig"
      },
      "source": [
        "Отображаем домашний каталог. Видно, что появился файл, который был указан в задаче (26.txt). Для других вариантов название файла будет другим."
      ]
    },
    {
      "cell_type": "code",
      "metadata": {
        "colab": {
          "base_uri": "https://localhost:8080/"
        },
        "id": "4nTyD46eML_1",
        "outputId": "c61288ae-dda4-4b40-99c9-fe3071f8e1a5"
      },
      "source": [
        "!ls -alt"
      ],
      "execution_count": null,
      "outputs": [
        {
          "output_type": "stream",
          "text": [
            "total 4452\n",
            "drwxr-xr-x 1 root root    4096 Dec 25 10:18 .\n",
            "drwxr-xr-x 1 root root    4096 Dec 25 09:06 ..\n",
            "drwxr-xr-x 1 root root    4096 Dec 21 17:29 .config\n",
            "drwxr-xr-x 1 root root    4096 Dec 21 17:29 sample_data\n",
            "-rw-r--r-- 1 root root 2267520 Dec 15 17:02 26data.zip\n",
            "-rw-r--r-- 1 root root 2267520 Dec 15 17:02 26data.zip.1\n",
            "-rw-r--r-- 1 root root    3698 Aug 20 09:25 26.txt\n"
          ],
          "name": "stdout"
        }
      ]
    },
    {
      "cell_type": "markdown",
      "metadata": {
        "id": "0qDzyMj0NCOT"
      },
      "source": [
        "###Подготовка к работе с полученным файлом"
      ]
    },
    {
      "cell_type": "markdown",
      "metadata": {
        "id": "6QOdi4wzQGIe"
      },
      "source": [
        "Известно, что файл текстовый, с данными записанными построчно. Необходимо использовать стандартную для таких случаев конструкцию на Python:"
      ]
    },
    {
      "cell_type": "code",
      "metadata": {
        "id": "0pa7ylAQUYRk"
      },
      "source": [
        "data = open('26.txt').readlines()"
      ],
      "execution_count": null,
      "outputs": []
    },
    {
      "cell_type": "markdown",
      "metadata": {
        "id": "HzUZeOL0ZiOz"
      },
      "source": [
        "Результатом чтения файла является список который будет передаваться алгоритму."
      ]
    },
    {
      "cell_type": "markdown",
      "metadata": {
        "id": "7cAeUmJ3bRUO"
      },
      "source": [
        "###Валидация полученных данных"
      ]
    },
    {
      "cell_type": "markdown",
      "metadata": {
        "id": "m0ormwrUbW5h"
      },
      "source": [
        "Этот пункт необходимо выполнить для того, чтобы убедиться в соответствии содержания файла условиям задаци (в части входных данных).\r\n",
        "\r\n",
        "**Из текста задачи:**\r\n",
        "\r\n",
        "В первой строке входного файла 26.txt находятся два числа: S – размер свободного места на диске (натуральное число, не превышающее 10 000) и N – количество пользователей (натуральное число, не превышающее 1000). В следующих N строках находятся значения объёмов файлов каждого пользователя (все числа натуральные, не превышающие 100), каждое в отдельной строке.\r\n",
        "\r\n",
        "Следовательно второй элемент первого элемента списка \"data\" должен быть равен длинне списка - 1. Также необходимо проверить, выполняются ли ограничения."
      ]
    },
    {
      "cell_type": "code",
      "metadata": {
        "id": "ZI_yCPPjUaXF",
        "colab": {
          "base_uri": "https://localhost:8080/"
        },
        "outputId": "22b00674-1783-44a3-ce1e-b8a32d4f1e4d"
      },
      "source": [
        "size, nof = map( int, data.pop(0).split() )\r\n",
        "print(nof==len(data))\r\n",
        "data = list(map(int,data))"
      ],
      "execution_count": null,
      "outputs": [
        {
          "output_type": "stream",
          "text": [
            "True\n"
          ],
          "name": "stdout"
        }
      ]
    },
    {
      "cell_type": "markdown",
      "metadata": {
        "id": "LKzuCdfje4C6"
      },
      "source": [
        "###Подготовка генератора входных данных"
      ]
    },
    {
      "cell_type": "markdown",
      "metadata": {
        "id": "iG06OdRvJxYE"
      },
      "source": [
        "Чтобы убедится в правильности работы алгоритма, одного набора входных данных недостаточно. Формально, имея один набор данных, можно быть уверенным лишь в том, что алгоритм отрабатывает правильно только на этом наборе, каким бы опытным не был разработчик, и сколько бы времени он не потратил. Учащийся может столкнутся с такой проблеммой, если в условиях задачи даны одни данные, а проверять алгоритм будут по другим. И дополнительные проверки могут закончиться неуспехом. Поэтому необходимо проверить различные комбинации значений, размеров последовательностей и т.д.\r\n",
        "\r\n",
        "Из предыдушего пункта известна природа этих данных, каким правилам они должны удовлетворять. Соответственно можно сгенерировать сколько угодно много таких наборов и более полно протестировать алгоритм.\r\n",
        "\r\n",
        "В языке Python существуют подходящие для этих целей конструкции, которые называются генераторами. В приведенном ниже примере создается список случайных целых чисел, наподобии списка полученного из файла, удовлетворяющий условию задачи."
      ]
    },
    {
      "cell_type": "code",
      "metadata": {
        "id": "yFisXVmRFO-T"
      },
      "source": [
        "test_size = 10000\r\n",
        "test_nof = 1000\r\n",
        "import random\r\n",
        "f=[random.randint(1,100) for i in range(1,test_nof)]"
      ],
      "execution_count": null,
      "outputs": []
    },
    {
      "cell_type": "code",
      "metadata": {
        "id": "agi-4kQOSpqp"
      },
      "source": [
        "data.sort()"
      ],
      "execution_count": null,
      "outputs": []
    },
    {
      "cell_type": "code",
      "metadata": {
        "id": "Y_XUAg-rFcV2"
      },
      "source": [
        " _sum=0\r\n",
        " i=0\r\n",
        " while True:\r\n",
        "   if (_sum+data[i]>size): break\r\n",
        "   else: _sum=_sum+data[i]\r\n",
        "   if (i==nof-1): break\r\n",
        "   i+=1"
      ],
      "execution_count": null,
      "outputs": []
    },
    {
      "cell_type": "code",
      "metadata": {
        "id": "ZVpZq6FhSQC6"
      },
      "source": [
        "f1=data[0:i]\r\n",
        "f2=set(data[i+1:])"
      ],
      "execution_count": null,
      "outputs": []
    },
    {
      "cell_type": "code",
      "metadata": {
        "id": "TnPNDijzWEvi"
      },
      "source": [
        "while True:\r\n",
        "  if (_sum-f1[-1]+max(f2)>size):\r\n",
        "    f2.remove(max(f2))\r\n",
        "  else:\r\n",
        "    f1[-1]=max(f2)\r\n",
        "    break"
      ],
      "execution_count": null,
      "outputs": []
    },
    {
      "cell_type": "markdown",
      "metadata": {
        "id": "7EsZmdonaQNl"
      },
      "source": [
        "Искомый список файлов содержится в переменной f1\r\n"
      ]
    },
    {
      "cell_type": "code",
      "metadata": {
        "id": "hWUqzXL0Vk6V",
        "colab": {
          "base_uri": "https://localhost:8080/"
        },
        "outputId": "b240e1e0-baec-4d90-b511-dde9e127ed9c"
      },
      "source": [
        "max(f1)"
      ],
      "execution_count": null,
      "outputs": [
        {
          "output_type": "execute_result",
          "data": {
            "text/plain": [
              "50"
            ]
          },
          "metadata": {
            "tags": []
          },
          "execution_count": 39
        }
      ]
    }
  ]
}